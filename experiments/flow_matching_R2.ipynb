{
 "cells": [
  {
   "cell_type": "markdown",
   "metadata": {},
   "source": [
    "# Flow Matching on $\\mathbb{R}^2$\n",
    "In this notebook, we perform flow matching on the two dimensional translation group $\\mathbb{R}^2$, which is isometric to two dimensional Euclidean space."
   ]
  },
  {
   "cell_type": "code",
   "execution_count": null,
   "metadata": {},
   "outputs": [],
   "source": [
    "import torch\n",
    "import numpy as np\n",
    "from lieflow.groups import Rn\n",
    "from lieflow.models import (\n",
    "    get_model_FM,\n",
    "    LogarithmicDistance\n",
    ")\n",
    "import matplotlib.pyplot as plt\n",
    "from matplotlib.animation import FFMpegWriter\n",
    "import matplotlib.colors as mcolors\n",
    "import matplotlib.gridspec as gridspec\n",
    "from matplotlib.cm import ScalarMappable\n",
    "plt.rcParams.update({\n",
    "    \"text.usetex\": True,\n",
    "    \"font.family\": \"serif\",\n",
    "    \"font.serif\": [\"Computer Modern\"],\n",
    "    \"font.size\": 10.0,\n",
    "    \"text.latex.preamble\": r\"\\usepackage{lmodern} \\usepackage{amssymb} \\usepackage{amsmath}\"\n",
    "})\n",
    "from tqdm.notebook import tqdm"
   ]
  },
  {
   "cell_type": "code",
   "execution_count": null,
   "metadata": {},
   "outputs": [],
   "source": [
    "r2 = Rn(2)"
   ]
  },
  {
   "cell_type": "code",
   "execution_count": null,
   "metadata": {},
   "outputs": [],
   "source": [
    "generate_videos = True"
   ]
  },
  {
   "cell_type": "markdown",
   "metadata": {},
   "source": [
    "# Distributions"
   ]
  },
  {
   "cell_type": "code",
   "execution_count": null,
   "metadata": {},
   "outputs": [],
   "source": [
    "def generate_normals(N):\n",
    "    return torch.Tensor(np.random.randn(N, 2))\n",
    "\n",
    "def generate_uniforms_on_circle(N, ε=0.04):\n",
    "    normals = generate_normals(N)\n",
    "    lengths = (normals**2).sum(dim=-1).sqrt()\n",
    "    non_zero = lengths > 0.\n",
    "    circle_samples = normals[non_zero] / lengths[non_zero, None]\n",
    "    return circle_samples + ε * torch.randn(circle_samples.shape)"
   ]
  },
  {
   "cell_type": "code",
   "execution_count": null,
   "metadata": {},
   "outputs": [],
   "source": [
    "tests = (\"normals_to_circle\",)"
   ]
  },
  {
   "cell_type": "code",
   "execution_count": null,
   "metadata": {},
   "outputs": [],
   "source": [
    "def data_generator(test, ε=0.04):\n",
    "    match test:\n",
    "        case \"normals_to_circle\":\n",
    "            generate_x_0 = lambda n: generate_normals(n)\n",
    "            generate_x_1 = lambda n: generate_uniforms_on_circle(n, ε=ε)\n",
    "    return generate_x_0, generate_x_1"
   ]
  },
  {
   "cell_type": "markdown",
   "metadata": {},
   "source": [
    "# Models"
   ]
  },
  {
   "cell_type": "markdown",
   "metadata": {},
   "source": [
    "## Training"
   ]
  },
  {
   "cell_type": "code",
   "execution_count": null,
   "metadata": {},
   "outputs": [],
   "source": [
    "EPSILON = 0.03\n",
    "N = 2**14\n",
    "BATCH_SIZE = 2**10\n",
    "EPOCHS = len(tests) * [20]\n",
    "WEIGHT_DECAY = 0.\n",
    "LEARNING_RATE = 1e-2\n",
    "H = 64 # Width\n",
    "L = 3 # Number of layers is L + 2\n",
    "device = \"cpu\""
   ]
  },
  {
   "cell_type": "code",
   "execution_count": null,
   "metadata": {},
   "outputs": [],
   "source": [
    "def train_model(x_0s, x_1s, epochs, batch_size=BATCH_SIZE, learning_rate=LEARNING_RATE, weight_decay=WEIGHT_DECAY):\n",
    "    train_loader = torch.utils.data.DataLoader(\n",
    "        torch.utils.data.TensorDataset(x_0s, x_1s), batch_size=batch_size, shuffle=True\n",
    "    )\n",
    "\n",
    "    model_FM = get_model_FM(r2, H=H, L=L).to(device)\n",
    "    print(\"Number of parameters: \", model_FM.parameter_count)\n",
    "    optimizer_FM = torch.optim.Adam(model_FM.parameters(), learning_rate, weight_decay=weight_decay)\n",
    "    loss = LogarithmicDistance(torch.Tensor([1., 1.]))\n",
    "\n",
    "    losses_FM = np.zeros(epochs)\n",
    "    for i in tqdm(range(epochs)):\n",
    "        losses_FM[i] = model_FM.train_network(device, train_loader, optimizer_FM, loss)\n",
    "\n",
    "    fig, ax = plt.subplots(1, 1, figsize=(5, 5))\n",
    "    ax.plot(losses_FM)\n",
    "    ax.set_title(\"Batch Loss Flow Matching\")\n",
    "    ax.set_xscale(\"log\")\n",
    "    ax.set_yscale(\"log\")\n",
    "\n",
    "    return model_FM"
   ]
  },
  {
   "cell_type": "code",
   "execution_count": null,
   "metadata": {},
   "outputs": [],
   "source": [
    "models_FM = {}\n",
    "for i, test in enumerate(tests):\n",
    "    print(test)\n",
    "    generate_x_0, generate_x_1 = data_generator(test, ε=EPSILON)\n",
    "\n",
    "    x_0s = generate_x_0(N)\n",
    "    x_1s = generate_x_1(N)\n",
    "\n",
    "    fig, ax = plt.subplots(1, 2, figsize=(10, 5))\n",
    "    ax[0].scatter(x_0s[:32, 0], x_0s[:32, 1])\n",
    "    ax[0].set_xlim(-3, 3)\n",
    "    ax[0].set_ylim(-3, 3)\n",
    "    ax[0].set_title(r\"$\\mathfrak{X}_0$\")\n",
    "    ax[1].scatter(x_1s[:32, 0], x_1s[:32, 1])\n",
    "    ax[1].set_xlim(-3, 3)\n",
    "    ax[1].set_ylim(-3, 3)\n",
    "    ax[1].set_title(r\"$\\mathfrak{X}_1$\")\n",
    "\n",
    "    models_FM[test] = train_model(x_0s, x_1s, epochs=EPOCHS[i], batch_size=BATCH_SIZE, learning_rate=LEARNING_RATE,\n",
    "                                  weight_decay=WEIGHT_DECAY)"
   ]
  },
  {
   "cell_type": "markdown",
   "metadata": {},
   "source": [
    "# Testing"
   ]
  },
  {
   "cell_type": "code",
   "execution_count": null,
   "metadata": {},
   "outputs": [],
   "source": [
    "def create_animations(tests, models_FM, N=2**5):\n",
    "    N_models = len(tests)\n",
    "\n",
    "    # Forward flow\n",
    "    x_0s_test = {}\n",
    "    x_ts_test = {}\n",
    "    for test in tests:\n",
    "        generate_x_0, _ = data_generator(test, ε=EPSILON)\n",
    "        x_0s_test[test] = generate_x_0(N).to(device)\n",
    "        x_ts_test[test] = x_0s_test[test].detach().clone()\n",
    "        \n",
    "        models_FM[test].eval()\n",
    "\n",
    "    t = 0\n",
    "    N_steps = 120\n",
    "    Δt = 1. / N_steps\n",
    "    metadata = {'title': 'Flow Matching R^2', 'artist': 'Matplotlib'}\n",
    "    writer = FFMpegWriter(fps=30, metadata=metadata)\n",
    "\n",
    "    fig, ax = plt.subplots(1, N_models, figsize=(5 * N_models, 5))\n",
    "\n",
    "    with writer.saving(fig, f\"output/flow_matching_R2.mp4\", dpi=150):\n",
    "        for i, test in enumerate(tests):\n",
    "            x_ts_test_plot = x_ts_test[test].to(\"cpu\")\n",
    "            ax.scatter(\n",
    "                x_ts_test_plot[:, 0], x_ts_test_plot[:, 1]\n",
    "            )\n",
    "            ax.set_title(fr\"$\\mathfrak{{X}}_{{{t:.2f}}}$\")\n",
    "            ax.set_xlim(-3, 3)\n",
    "            ax.set_ylim(-3, 3)\n",
    "        writer.grab_frame()\n",
    "        for frame in tqdm(range(N_steps)):\n",
    "            t = frame * Δt\n",
    "            for i, test in enumerate(tests):\n",
    "                with torch.no_grad():\n",
    "                    x_ts_test[test] = models_FM[test].step(x_ts_test[test], torch.Tensor([t]), Δt)\n",
    "                x_ts_test_plot = x_ts_test[test].to(\"cpu\")\n",
    "                ax.clear()\n",
    "                ax.scatter(\n",
    "                    x_ts_test_plot[:, 0], x_ts_test_plot[:, 1]\n",
    "                )\n",
    "                ax.set_title(fr\"$\\mathfrak{{X}}_{{{t:.2f}}}$\")\n",
    "                ax.set_xlim(-3, 3)\n",
    "                ax.set_ylim(-3, 3)\n",
    "            writer.grab_frame()\n",
    "        writer.grab_frame()\n",
    "\n",
    "    # Backward flow\n",
    "    x_1s_test = {}\n",
    "    x_ts_test = {}\n",
    "    for test in tests:\n",
    "        _, generate_x_1 = data_generator(test, ε=EPSILON)\n",
    "        x_1s_test[test] = generate_x_1(N).to(device)\n",
    "        x_ts_test[test] = x_1s_test[test].detach().clone()\n",
    "        \n",
    "        models_FM[test].eval()\n",
    "\n",
    "    t = 0\n",
    "    N_steps = 120\n",
    "    Δt = 1. / N_steps\n",
    "    metadata = {'title': 'Flow Matching R^2', 'artist': 'Matplotlib'}\n",
    "    writer = FFMpegWriter(fps=30, metadata=metadata)\n",
    "\n",
    "    fig, ax = plt.subplots(1, N_models, figsize=(5 * N_models, 5))\n",
    "\n",
    "    with writer.saving(fig, f\"output/flow_matching_R2_backwards.mp4\", dpi=150):\n",
    "        for i, test in enumerate(tests):\n",
    "            x_ts_test_plot = x_ts_test[test].to(\"cpu\")\n",
    "            ax.scatter(\n",
    "                x_ts_test_plot[:, 0], x_ts_test_plot[:, 1]\n",
    "            )\n",
    "            ax.set_title(fr\"$\\mathfrak{{X}}_{{{t:.2f}}}$\")\n",
    "            ax.set_xlim(-3, 3)\n",
    "            ax.set_ylim(-3, 3)\n",
    "        writer.grab_frame()\n",
    "        for frame in tqdm(range(N_steps)):\n",
    "            t = 1. - frame * Δt\n",
    "            for i, test in enumerate(tests):\n",
    "                with torch.no_grad():\n",
    "                    x_ts_test[test] = models_FM[test].step_back(x_ts_test[test], torch.Tensor([t]), Δt)\n",
    "                x_ts_test_plot = x_ts_test[test].to(\"cpu\")\n",
    "                ax.clear()\n",
    "                ax.scatter(\n",
    "                    x_ts_test_plot[:, 0], x_ts_test_plot[:, 1]\n",
    "                )\n",
    "                ax.set_title(fr\"$\\mathfrak{{X}}_{{{t:.2f}}}$\")\n",
    "                ax.set_xlim(-3, 3)\n",
    "                ax.set_ylim(-3, 3)\n",
    "            writer.grab_frame()\n",
    "        writer.grab_frame()"
   ]
  },
  {
   "cell_type": "code",
   "execution_count": null,
   "metadata": {},
   "outputs": [],
   "source": [
    "if generate_videos:\n",
    "    create_animations(tests, models_FM, N=2**5)"
   ]
  },
  {
   "cell_type": "code",
   "execution_count": null,
   "metadata": {},
   "outputs": [],
   "source": [
    "t = 0\n",
    "N_steps = 240\n",
    "Δt = 1. / N_steps\n",
    "N_show = 5\n",
    "N_skip = int(N_steps / (N_show-1))\n",
    "\n",
    "N_models = len(tests)\n",
    "N_samples = 32\n",
    "\n",
    "x_0s_test = {}\n",
    "x_1s_test = {}\n",
    "x_ts_test = {}\n",
    "for test in tests:\n",
    "    generate_x_0, generate_x_1 = data_generator(test, ε=EPSILON)\n",
    "    x_0s_test[test] = generate_x_0(N_samples).to(device)\n",
    "    x_1s_test[test] = generate_x_1(N_samples).to(device)\n",
    "    x_ts_test[test] = x_0s_test[test].detach().clone()\n",
    "    \n",
    "    models_FM[test].eval()\n",
    "\n",
    "fig = plt.figure(figsize=(4.8, 1.6 * N_models * 3/3.1))\n",
    "gs = gridspec.GridSpec(N_models, 4, width_ratios=[1, 1, 1, 0.1], height_ratios=N_models * [1.], wspace=0.1, hspace=0.1)\n",
    "cax = fig.add_subplot(gs[:, 3])\n",
    "\n",
    "ax = []\n",
    "for i in range(N_models):\n",
    "    ax.append([])\n",
    "    for j in range(3):\n",
    "        a = fig.add_subplot(gs[i, j])\n",
    "        a.set_xlim(-3, 3)\n",
    "        a.set_ylim(-3, 3)\n",
    "        a.set_xticks([])\n",
    "        a.set_yticks([])\n",
    "        a.set_aspect(\"equal\")\n",
    "        ax[i].append(a)\n",
    "        \n",
    "ax[0][0].set_title(r\"$\\mathfrak{X}_0$\")\n",
    "ax[0][1].set_title(r\"$\\mathfrak{X}_t$\")\n",
    "ax[0][2].set_title(r\"$\\mathfrak{X}_1$\")\n",
    "Δc = 1 / (N_show - 1)\n",
    "colors = [(j * Δc, 0.1, 1 - j * Δc) for j in range(N_show)]\n",
    "cmap = mcolors.ListedColormap(colors)\n",
    "for i, test in enumerate(tests):\n",
    "    k = 0\n",
    "\n",
    "    ax[i][0].scatter(\n",
    "        x_0s_test[test][:N_samples, 0], x_0s_test[test][:N_samples, 1], marker=\".\"\n",
    "    )\n",
    "    ax[i][2].scatter(\n",
    "        x_1s_test[test][:N_samples, 0], x_1s_test[test][:N_samples, 1], marker=\".\"\n",
    "    )\n",
    "\n",
    "    alpha = 1\n",
    "    N_samples_shown = N_samples\n",
    "    for j in range(N_steps+1):\n",
    "        t = j * Δt\n",
    "        if j == N_steps:\n",
    "            alpha = 1\n",
    "            N_samples_shown = N_samples\n",
    "        with torch.no_grad():\n",
    "            x_ts_test[test] = models_FM[test].step(x_ts_test[test], torch.Tensor([t]), torch.Tensor([Δt]))\n",
    "\n",
    "        if j % N_skip == 0:\n",
    "            x_ts_test_plot = x_ts_test[test].to(\"cpu\")\n",
    "            im = ax[i][1].scatter(\n",
    "                x_ts_test_plot[:N_samples_shown, 0], x_ts_test_plot[:N_samples_shown, 1],\n",
    "                color=colors[k], marker=\".\", alpha=alpha\n",
    "            )\n",
    "            k += 1\n",
    "        alpha = 0.5\n",
    "        N_samples_shown = N_samples // 4\n",
    "fig.colorbar(ScalarMappable(cmap=cmap), cax=cax, ticks=np.linspace(0, 1, N_show), label=\"$t$\");\n",
    "fig.savefig(f\"output/interpolation_R2.pdf\", bbox_inches=\"tight\")"
   ]
  },
  {
   "cell_type": "code",
   "execution_count": null,
   "metadata": {},
   "outputs": [],
   "source": []
  }
 ],
 "metadata": {
  "kernelspec": {
   "display_name": "flow-matching",
   "language": "python",
   "name": "python3"
  },
  "language_info": {
   "codemirror_mode": {
    "name": "ipython",
    "version": 3
   },
   "file_extension": ".py",
   "mimetype": "text/x-python",
   "name": "python",
   "nbconvert_exporter": "python",
   "pygments_lexer": "ipython3",
   "version": "3.12.9"
  }
 },
 "nbformat": 4,
 "nbformat_minor": 2
}
