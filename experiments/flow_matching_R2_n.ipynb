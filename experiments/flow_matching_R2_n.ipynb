{
 "cells": [
  {
   "cell_type": "code",
   "execution_count": null,
   "metadata": {},
   "outputs": [],
   "source": [
    "import torch\n",
    "import numpy as np\n",
    "from lieflow.groups import Rn\n",
    "from lieflow.models import (\n",
    "    get_model_FM,\n",
    "    LogarithmicDistance\n",
    ")\n",
    "import matplotlib.pyplot as plt\n",
    "from matplotlib.animation import FFMpegWriter\n",
    "plt.rcParams.update({\n",
    "    \"text.usetex\": True,\n",
    "    \"font.family\": \"serif\",\n",
    "    \"font.serif\": [\"Computer Modern\"],\n",
    "    \"font.size\": 10.0,\n",
    "    \"text.latex.preamble\": r\"\\usepackage{lmodern} \\usepackage{amssymb} \\usepackage{amsmath}\"\n",
    "})\n",
    "from tqdm.notebook import tqdm"
   ]
  },
  {
   "cell_type": "code",
   "execution_count": null,
   "metadata": {},
   "outputs": [],
   "source": [
    "r2 = Rn(2)\n",
    "M = 10"
   ]
  },
  {
   "cell_type": "code",
   "execution_count": null,
   "metadata": {},
   "outputs": [],
   "source": [
    "generate_videos = True"
   ]
  },
  {
   "cell_type": "markdown",
   "metadata": {},
   "source": [
    "# Distributions"
   ]
  },
  {
   "cell_type": "code",
   "execution_count": null,
   "metadata": {},
   "outputs": [],
   "source": [
    "def generate_normals(N, m):\n",
    "    return torch.Tensor(np.random.randn(N, m, 2))\n",
    "\n",
    "def generate_uniforms_on_circle(N, m, ε=0.04):\n",
    "    angles_unshifted = np.random.rand(N) * 2 * np.pi\n",
    "    dθ = 2 * np.pi/m\n",
    "    angles = torch.Tensor(np.arange(m)[..., None] * dθ + angles_unshifted)[..., None]\n",
    "    xs = torch.cat((torch.cos(angles), torch.sin(angles)), dim=-1).transpose(0, 1)\n",
    "    return xs + ε * torch.randn(xs.shape)\n"
   ]
  },
  {
   "cell_type": "code",
   "execution_count": null,
   "metadata": {},
   "outputs": [],
   "source": [
    "t = generate_uniforms_on_circle(3, M)"
   ]
  },
  {
   "cell_type": "code",
   "execution_count": null,
   "metadata": {},
   "outputs": [],
   "source": [
    "fig, ax = plt.subplots(1, 1, figsize=(5, 5))\n",
    "for x in t:\n",
    "    ax.scatter(x[..., 0], x[..., 1])\n",
    "ax.set_xlim(-3, 3)\n",
    "ax.set_ylim(-3, 3);"
   ]
  },
  {
   "cell_type": "code",
   "execution_count": null,
   "metadata": {},
   "outputs": [],
   "source": [
    "tests = (\"normals_to_circle\",)"
   ]
  },
  {
   "cell_type": "code",
   "execution_count": null,
   "metadata": {},
   "outputs": [],
   "source": [
    "def data_generator(test, ε=0.04):\n",
    "    match test:\n",
    "        case \"normals_to_circle\":\n",
    "            generate_x_0 = lambda n: generate_normals(n, M)\n",
    "            generate_x_1 = lambda n: generate_uniforms_on_circle(n, M, ε=ε)\n",
    "    return generate_x_0, generate_x_1"
   ]
  },
  {
   "cell_type": "markdown",
   "metadata": {},
   "source": [
    "# Models"
   ]
  },
  {
   "cell_type": "markdown",
   "metadata": {},
   "source": [
    "## Training"
   ]
  },
  {
   "cell_type": "code",
   "execution_count": null,
   "metadata": {},
   "outputs": [],
   "source": [
    "EPSILON = 0.03\n",
    "N = 2**12\n",
    "BATCH_SIZE = 2**8\n",
    "EPOCHS = len(tests) * [100]\n",
    "WEIGHT_DECAY = 0.\n",
    "LEARNING_RATE = 5e-4\n",
    "EMBED_DIM = 64\n",
    "NUM_HEADS = 8\n",
    "EXPANSION = 4\n",
    "L = 4\n",
    "device = \"cuda\""
   ]
  },
  {
   "cell_type": "code",
   "execution_count": null,
   "metadata": {},
   "outputs": [],
   "source": [
    "def train_model(x_0s, x_1s, epochs, batch_size=BATCH_SIZE, learning_rate=LEARNING_RATE, weight_decay=WEIGHT_DECAY):\n",
    "    train_loader = torch.utils.data.DataLoader(\n",
    "        torch.utils.data.TensorDataset(x_0s, x_1s), batch_size=batch_size, shuffle=True\n",
    "    )\n",
    "\n",
    "    model_FM = get_model_FM(r2, L=L, power_group=True, embed_dim=EMBED_DIM, num_heads=NUM_HEADS, expansion=EXPANSION).to(device)\n",
    "    print(\"Number of parameters: \", model_FM.parameter_count)\n",
    "    optimizer_FM = torch.optim.Adam(model_FM.parameters(), learning_rate, weight_decay=weight_decay)\n",
    "    loss = LogarithmicDistance(torch.Tensor([1., 1.]).to(device))\n",
    "\n",
    "    losses_FM = np.zeros(epochs)\n",
    "    for i in tqdm(range(epochs)):\n",
    "        losses_FM[i] = model_FM.train_network(device, train_loader, optimizer_FM, loss)\n",
    "\n",
    "    fig, ax = plt.subplots(1, 1, figsize=(5, 5))\n",
    "    ax.plot(losses_FM)\n",
    "    ax.set_title(\"Batch Loss Flow Matching\")\n",
    "    ax.set_xscale(\"log\")\n",
    "    ax.set_yscale(\"log\")\n",
    "\n",
    "    return model_FM, losses_FM"
   ]
  },
  {
   "cell_type": "code",
   "execution_count": null,
   "metadata": {},
   "outputs": [],
   "source": [
    "models_FM = {}\n",
    "losses_FM = {}\n",
    "for i, test in enumerate(tests):\n",
    "    print(test)\n",
    "    generate_x_0, generate_x_1 = data_generator(test, ε=EPSILON)\n",
    "\n",
    "    x_0s = generate_x_0(N)\n",
    "    x_1s = generate_x_1(N)\n",
    "\n",
    "    fig, ax = plt.subplots(1, 2, figsize=(10, 5))\n",
    "    for j in range(M):\n",
    "        ax[0].scatter(x_0s[:32, j, 0], x_0s[:32, j, 1])\n",
    "        ax[1].scatter(x_1s[:32, j, 0], x_1s[:32, j, 1])\n",
    "    ax[0].set_xlim(-3, 3)\n",
    "    ax[0].set_ylim(-3, 3)\n",
    "    ax[0].set_title(r\"$\\mathfrak{X}_0$\")\n",
    "    ax[1].set_xlim(-3, 3)\n",
    "    ax[1].set_ylim(-3, 3)\n",
    "    ax[1].set_title(r\"$\\mathfrak{X}_1$\")\n",
    "\n",
    "    models_FM[test], losses_FM[test] = train_model(x_0s, x_1s, epochs=EPOCHS[i], batch_size=BATCH_SIZE, learning_rate=LEARNING_RATE,\n",
    "                                  weight_decay=WEIGHT_DECAY)"
   ]
  },
  {
   "cell_type": "markdown",
   "metadata": {},
   "source": [
    "# Testing"
   ]
  },
  {
   "cell_type": "code",
   "execution_count": null,
   "metadata": {},
   "outputs": [],
   "source": [
    "def create_animations(tests, models_FM, N=2**5):\n",
    "    N_models = len(tests)\n",
    "\n",
    "    # Forward flow\n",
    "    x_0s_test = {}\n",
    "    x_ts_test = {}\n",
    "    for test in tests:\n",
    "        generate_x_0, _ = data_generator(test, ε=EPSILON)\n",
    "        x_0s_test[test] = generate_x_0(N).to(device)\n",
    "        x_ts_test[test] = x_0s_test[test].detach().clone()\n",
    "        \n",
    "        models_FM[test].eval()\n",
    "\n",
    "    t = 0\n",
    "    N_steps = 120\n",
    "    Δt = 1. / N_steps\n",
    "    metadata = {'title': 'Flow Matching R^2', 'artist': 'Matplotlib'}\n",
    "    writer = FFMpegWriter(fps=30, metadata=metadata)\n",
    "\n",
    "    fig, ax = plt.subplots(1, N_models, figsize=(5 * N_models, 5))\n",
    "\n",
    "    Δc = 1 / (M - 1)\n",
    "    colors = [(j * Δc, 0.1, 1 - j * Δc) for j in range(M)]\n",
    "\n",
    "    with writer.saving(fig, f\"output/flow_matching_R2_n.mp4\", dpi=150):\n",
    "        for frame in tqdm(range(N_steps)):\n",
    "            t = frame * Δt\n",
    "            for test in tests:\n",
    "                with torch.no_grad():\n",
    "                    x_ts_test[test] = models_FM[test].step(x_ts_test[test], torch.Tensor([t]).to(device), Δt)\n",
    "                x_ts_test_plot = x_ts_test[test].to(\"cpu\")\n",
    "                ax.clear()\n",
    "                for i in range(M):\n",
    "                    ax.scatter(\n",
    "                        x_ts_test_plot[:, i, 0], x_ts_test_plot[:, i, 1], color=colors[i]\n",
    "                    )\n",
    "                ax.set_title(fr\"$\\mathfrak{{X}}_{{{t:.2f}}}$\")\n",
    "                ax.set_xlim(-3, 3)\n",
    "                ax.set_ylim(-3, 3)\n",
    "            writer.grab_frame()\n",
    "        writer.grab_frame()\n",
    "\n",
    "    # Backward flow\n",
    "    x_1s_test = {}\n",
    "    x_ts_test = {}\n",
    "    for test in tests:\n",
    "        _, generate_x_1 = data_generator(test, ε=EPSILON)\n",
    "        x_1s_test[test] = generate_x_1(N).to(device)\n",
    "        x_ts_test[test] = x_1s_test[test].detach().clone()\n",
    "        \n",
    "        models_FM[test].eval()\n",
    "\n",
    "    t = 0\n",
    "    N_steps = 120\n",
    "    Δt = 1. / N_steps\n",
    "    metadata = {'title': 'Flow Matching R^2', 'artist': 'Matplotlib'}\n",
    "    writer = FFMpegWriter(fps=30, metadata=metadata)\n",
    "\n",
    "    fig, ax = plt.subplots(1, N_models, figsize=(5 * N_models, 5))\n",
    "\n",
    "    Δc = 1 / (M - 1)\n",
    "    colors = [(j * Δc, 0.1, 1 - j * Δc) for j in range(M)]\n",
    "\n",
    "    with writer.saving(fig, f\"output/flow_matching_R2_n_backwards.mp4\", dpi=150):\n",
    "        for frame in tqdm(range(N_steps)):\n",
    "            t = 1. - frame * Δt\n",
    "            for test in tests:\n",
    "                with torch.no_grad():\n",
    "                    x_ts_test[test] = models_FM[test].step_back(x_ts_test[test], torch.Tensor([t]).to(device), Δt)\n",
    "                x_ts_test_plot = x_ts_test[test].to(\"cpu\")\n",
    "                ax.clear()\n",
    "                for i in range(M):\n",
    "                    ax.scatter(\n",
    "                        x_ts_test_plot[:, i, 0], x_ts_test_plot[:, i, 1], color=colors[i]\n",
    "                    )\n",
    "                ax.set_title(fr\"$\\mathfrak{{X}}_{{{t:.2f}}}$\")\n",
    "                ax.set_xlim(-3, 3)\n",
    "                ax.set_ylim(-3, 3)\n",
    "            writer.grab_frame()\n",
    "        writer.grab_frame()"
   ]
  },
  {
   "cell_type": "code",
   "execution_count": null,
   "metadata": {},
   "outputs": [],
   "source": [
    "if generate_videos:\n",
    "    create_animations(tests, models_FM, N=1)"
   ]
  },
  {
   "cell_type": "code",
   "execution_count": null,
   "metadata": {},
   "outputs": [],
   "source": [
    "generate_x_0, generate_x_1 = data_generator(test, ε=EPSILON)\n",
    "x_0s_test = generate_x_0(1).to(device)\n",
    "x_ts_test = x_0s_test.detach().clone()\n",
    "x_1s_test = generate_x_1(1).to(\"cpu\")\n",
    "    \n",
    "model_FM = models_FM[tests[0]]\n",
    "model_FM.eval()\n",
    "\n",
    "t = 0\n",
    "N_steps = 120\n",
    "Δt = 1. / N_steps\n",
    "for test in tests:\n",
    "    fig, ax = plt.subplots(1, 2, figsize=(5 * 2, 5))\n",
    "\n",
    "    Δc = 1 / (M - 1)\n",
    "    colors = [(j * Δc, 0.1, 1 - j * Δc) for j in range(M)]\n",
    "\n",
    "    for frame in tqdm(range(N_steps)):\n",
    "        t = frame * Δt\n",
    "        for test in tests:\n",
    "            with torch.no_grad():\n",
    "                x_ts_test = model_FM.step(x_ts_test, torch.Tensor([t]).to(device), Δt)\n",
    "    x_ts_test_plot = x_ts_test.to(\"cpu\")\n",
    "    for i in range(M):\n",
    "        ax[0].scatter(\n",
    "            x_ts_test_plot[:, i, 0], x_ts_test_plot[:, i, 1], color=colors[i]\n",
    "        )\n",
    "        ax[1].scatter(\n",
    "            x_1s_test[:, i, 0], x_1s_test[:, i, 1], color=colors[i]\n",
    "        )\n",
    "    ax[0].set_title(fr\"$\\mathfrak{{X}}_{{{t:.2f}}}$\")\n",
    "    ax[1].set_title(fr\"$\\mathfrak{{X}}_{1}$\")\n",
    "    ax[0].set_xlim(-3, 3)\n",
    "    ax[0].set_ylim(-3, 3)\n",
    "    ax[1].set_xlim(-3, 3)\n",
    "    ax[1].set_ylim(-3, 3)"
   ]
  },
  {
   "cell_type": "code",
   "execution_count": null,
   "metadata": {},
   "outputs": [],
   "source": []
  }
 ],
 "metadata": {
  "kernelspec": {
   "display_name": "flow-matching",
   "language": "python",
   "name": "python3"
  },
  "language_info": {
   "codemirror_mode": {
    "name": "ipython",
    "version": 3
   },
   "file_extension": ".py",
   "mimetype": "text/x-python",
   "name": "python",
   "nbconvert_exporter": "python",
   "pygments_lexer": "ipython3",
   "version": "3.12.9"
  }
 },
 "nbformat": 4,
 "nbformat_minor": 2
}
