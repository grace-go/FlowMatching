{
 "cells": [
  {
   "cell_type": "code",
   "execution_count": null,
   "metadata": {},
   "outputs": [],
   "source": [
    "import torch\n",
    "import numpy as np\n",
    "from lieflow.groups import SE2\n",
    "from lieflow.models import (\n",
    "    get_model_SCFM,\n",
    "    LogarithmicDistance\n",
    ")\n",
    "import matplotlib.pyplot as plt\n",
    "from matplotlib.animation import FFMpegWriter\n",
    "import matplotlib.colors as mcolors\n",
    "import matplotlib.gridspec as gridspec\n",
    "from matplotlib.cm import ScalarMappable\n",
    "plt.rcParams.update({\n",
    "    \"text.usetex\": True,\n",
    "    \"font.family\": \"serif\",\n",
    "    \"font.serif\": [\"Computer Modern\"],\n",
    "    \"font.size\": 10.0,\n",
    "    \"text.latex.preamble\": r\"\\usepackage{lmodern} \\usepackage{amssymb} \\usepackage{amsmath}\"\n",
    "})\n",
    "from tqdm.notebook import tqdm"
   ]
  },
  {
   "cell_type": "code",
   "execution_count": null,
   "metadata": {},
   "outputs": [],
   "source": [
    "se2 = SE2()"
   ]
  },
  {
   "cell_type": "code",
   "execution_count": null,
   "metadata": {},
   "outputs": [],
   "source": [
    "generate_videos = True"
   ]
  },
  {
   "cell_type": "markdown",
   "metadata": {},
   "source": [
    "# Distributions"
   ]
  },
  {
   "cell_type": "code",
   "execution_count": null,
   "metadata": {},
   "outputs": [],
   "source": [
    "def generate_normals(N):\n",
    "    translations = np.random.randn(N, 2)\n",
    "    rotations = 2 * np.pi * np.random.rand(N)\n",
    "    g = np.hstack((translations, rotations[..., None]))\n",
    "    return torch.Tensor(g)\n",
    "\n",
    "def generate_uniforms_on_circle(N, centre=np.array((0., 0.)), ε=0.05):\n",
    "    angles = torch.Tensor(np.random.rand(N) * 2 * torch.pi)[..., None]\n",
    "    gs = torch.hstack((torch.cos(angles) + centre[0], torch.sin(angles) + centre[1], angles))\n",
    "    return gs + ε * torch.randn(gs.shape)\n",
    "\n",
    "def generate_line(N, d=0., w=1., horizontal=True, ε=0.05):\n",
    "    if horizontal:\n",
    "        xs = 2 * w * (np.random.rand(N) - 0.5)\n",
    "        ys = np.ones(N) * d\n",
    "        angles = np.ones(N) * np.pi / 2.\n",
    "    else:\n",
    "        xs = np.ones(N) * d\n",
    "        ys = 2 * w * (np.random.rand(N) - 0.5)\n",
    "        angles = np.zeros(N)\n",
    "    gs = torch.Tensor(np.hstack((xs[..., None], ys[..., None], angles[..., None])))\n",
    "    return gs + ε * torch.randn(gs.shape)"
   ]
  },
  {
   "cell_type": "code",
   "execution_count": null,
   "metadata": {},
   "outputs": [],
   "source": [
    "# \"normal_to_circle\" \"vertical_line_to_vertical_line\"\n",
    "tests = (\"horizontal_line_to_vertical_line\", \"vertical_line_to_circle\")"
   ]
  },
  {
   "cell_type": "code",
   "execution_count": null,
   "metadata": {},
   "outputs": [],
   "source": [
    "def data_generator(test, ε=0.04):\n",
    "    match test:\n",
    "        case \"horizontal_line_to_vertical_line\":\n",
    "            generate_g_0 = lambda n: generate_line(n, d=-2.5, w=1.5, horizontal=True, ε=ε)\n",
    "            generate_g_1 = lambda n: generate_line(n, d=2.5, w=1.5, horizontal=False, ε=ε)\n",
    "        case \"vertical_line_to_vertical_line\":\n",
    "            generate_g_0 = lambda n: generate_line(n, d=-2.5, w=1.5, horizontal=False, ε=ε)\n",
    "            generate_g_1 = lambda n: generate_line(n, d=2.5, w=1.5, horizontal=False, ε=ε) \n",
    "        case \"normal_to_circle\":\n",
    "            generate_g_0 = lambda n: generate_normals(n, ε=ε)\n",
    "            generate_g_1 = lambda n: generate_uniforms_on_circle(n, ε=ε)\n",
    "        case \"vertical_line_to_circle\":\n",
    "            generate_g_0 = lambda n: generate_line(n, d=-2.5, w=2., horizontal=False, ε=ε)\n",
    "            generate_g_1 = lambda n: generate_uniforms_on_circle(n, centre=np.array((1.25, 0.)), ε=ε)\n",
    "    return generate_g_0, generate_g_1"
   ]
  },
  {
   "cell_type": "markdown",
   "metadata": {},
   "source": [
    "# Models"
   ]
  },
  {
   "cell_type": "markdown",
   "metadata": {},
   "source": [
    "## Training"
   ]
  },
  {
   "cell_type": "code",
   "execution_count": null,
   "metadata": {},
   "outputs": [],
   "source": [
    "EPSILON = 0.03\n",
    "N = 2**14\n",
    "BATCH_SIZE = 2**10\n",
    "EPOCHS = len(tests) * [50]\n",
    "WEIGHT_DECAY = 0.\n",
    "LEARNING_RATE = 1e-2\n",
    "H = 64 # Width\n",
    "L = 3 # Number of layers is L + 2\n",
    "device = \"cpu\""
   ]
  },
  {
   "cell_type": "code",
   "execution_count": null,
   "metadata": {},
   "outputs": [],
   "source": [
    "def train_model_SCFM(g_0s, g_1s, epochs, batch_size=BATCH_SIZE, learning_rate=LEARNING_RATE, weight_decay=WEIGHT_DECAY):\n",
    "    train_loader = torch.utils.data.DataLoader(\n",
    "        torch.utils.data.TensorDataset(g_0s, g_1s), batch_size=batch_size, shuffle=True\n",
    "    )\n",
    "\n",
    "    model_SCFM = get_model_SCFM(se2).to(device)\n",
    "    print(\"Number of parameters: \", model_SCFM.parameter_count)\n",
    "    optimizer_SCFM = torch.optim.Adam(model_SCFM.parameters(), learning_rate, weight_decay=weight_decay)\n",
    "    loss = LogarithmicDistance(torch.Tensor([1., 1., 1.]))\n",
    "\n",
    "    losses_SCFM = np.zeros(epochs)\n",
    "    for i in tqdm(range(epochs)):\n",
    "        losses_SCFM[i] = model_SCFM.train_network(device, train_loader, optimizer_SCFM, loss)\n",
    "\n",
    "    fig, ax = plt.subplots(1, 1, figsize=(5, 5))\n",
    "    ax.plot(losses_SCFM)\n",
    "    ax.set_title(\"Batch Loss Short Cut Flow Matching\")\n",
    "    ax.set_xscale(\"log\")\n",
    "    ax.set_yscale(\"log\")\n",
    "\n",
    "    return model_SCFM"
   ]
  },
  {
   "cell_type": "code",
   "execution_count": null,
   "metadata": {},
   "outputs": [],
   "source": [
    "models_SCFM = {}\n",
    "for i, test in enumerate(tests):\n",
    "    print(test)\n",
    "    generate_g_0, generate_g_1 = data_generator(test, ε=EPSILON)\n",
    "\n",
    "    g_0s = generate_g_0(N)\n",
    "    g_1s = generate_g_1(N)\n",
    "\n",
    "    fig, ax = plt.subplots(1, 2, figsize=(10, 5))\n",
    "    ax[0].quiver(g_0s[:32, 0], g_0s[:32, 1], torch.cos(g_0s[:32, 2]), torch.sin(g_0s[:32, 2]))\n",
    "    ax[0].set_xlim(-3, 3)\n",
    "    ax[0].set_ylim(-3, 3)\n",
    "    ax[0].set_title(r\"$\\mathfrak{X}_0$\")\n",
    "    ax[1].quiver(g_1s[:32, 0], g_1s[:32, 1], torch.cos(g_1s[:32, 2]), torch.sin(g_1s[:32, 2]))\n",
    "    ax[1].set_xlim(-3, 3)\n",
    "    ax[1].set_ylim(-3, 3)\n",
    "    ax[1].set_title(r\"$\\mathfrak{X}_1$\")\n",
    "\n",
    "    models_SCFM[test] = train_model_SCFM(g_0s, g_1s, epochs=EPOCHS[i], batch_size=BATCH_SIZE,\n",
    "                                         learning_rate=LEARNING_RATE, weight_decay=WEIGHT_DECAY)"
   ]
  },
  {
   "cell_type": "markdown",
   "metadata": {},
   "source": [
    "## Testing"
   ]
  },
  {
   "cell_type": "code",
   "execution_count": null,
   "metadata": {},
   "outputs": [],
   "source": [
    "def create_animations(tests, models_SCFM, N=2**5):\n",
    "    N_models = len(tests)\n",
    "\n",
    "    g_0s_test = {}\n",
    "    g_ts_test = {}\n",
    "    for test in tests:\n",
    "        generate_g_0, _ = data_generator(test, ε=EPSILON)\n",
    "        g_0s_test[test] = generate_g_0(N).to(device)\n",
    "        g_ts_test[test] = g_0s_test[test].detach().clone()\n",
    "        \n",
    "        models_SCFM[test].eval()\n",
    "\n",
    "    t = 0\n",
    "    N_steps = 120\n",
    "    Δt = 1. / N_steps\n",
    "    metadata = {'title': 'Shortcut Modelling SE(2)', 'artist': 'Matplotlib'}\n",
    "    writer = FFMpegWriter(fps=30, metadata=metadata)\n",
    "\n",
    "    fig, ax = plt.subplots(1, N_models, figsize=(5 * N_models, 5))\n",
    "\n",
    "    with writer.saving(fig, f\"output/shortcut_SE2.mp4\", dpi=150):\n",
    "        for i, test in enumerate(tests):\n",
    "            g_ts_test_plot = g_ts_test[test].to(\"cpu\")\n",
    "            ax[i].quiver(\n",
    "                g_ts_test_plot[:, 0], g_ts_test_plot[:, 1],\n",
    "                torch.cos(g_ts_test_plot[:, 2]), torch.sin(g_ts_test_plot[:, 2])\n",
    "            )\n",
    "            ax[i].set_title(fr\"$\\mathfrak{{X}}_{{{t:.2f}}}$\")\n",
    "            ax[i].set_xlim(-3, 3)\n",
    "            ax[i].set_ylim(-3, 3)\n",
    "        writer.grab_frame()\n",
    "        for frame in tqdm(range(N_steps)):\n",
    "            t = frame * Δt\n",
    "            for i, test in enumerate(tests):\n",
    "                with torch.no_grad():\n",
    "                    g_ts_test[test] = models_SCFM[test].step(g_ts_test[test], torch.Tensor([t]), torch.Tensor([Δt]))\n",
    "                g_ts_test_plot = g_ts_test[test].to(\"cpu\")\n",
    "                ax[i].clear()\n",
    "                ax[i].quiver(\n",
    "                    g_ts_test_plot[:, 0], g_ts_test_plot[:, 1],\n",
    "                    torch.cos(g_ts_test_plot[:, 2]), torch.sin(g_ts_test_plot[:, 2])\n",
    "                )\n",
    "                ax[i].set_title(fr\"$\\mathfrak{{X}}_{{{t:.2f}}}$\")\n",
    "                ax[i].set_xlim(-3, 3)\n",
    "                ax[i].set_ylim(-3, 3)\n",
    "            writer.grab_frame()\n",
    "        writer.grab_frame()"
   ]
  },
  {
   "cell_type": "code",
   "execution_count": null,
   "metadata": {},
   "outputs": [],
   "source": [
    "if generate_videos:\n",
    "    create_animations(tests, models_SCFM, N=2**5)"
   ]
  },
  {
   "cell_type": "code",
   "execution_count": null,
   "metadata": {},
   "outputs": [],
   "source": [
    "t = 0\n",
    "N_steps = 24\n",
    "Δt = 1. / N_steps\n",
    "N_show = 5\n",
    "N_skip = int(N_steps / (N_show-1))\n",
    "\n",
    "N_models = len(tests)\n",
    "N_samples = 32\n",
    "\n",
    "g_0s_test = {}\n",
    "g_1s_test = {}\n",
    "g_ts_test = {}\n",
    "for test in tests:\n",
    "    generate_g_0, generate_g_1 = data_generator(test, ε=EPSILON)\n",
    "    g_0s_test[test] = generate_g_0(N_samples).to(device)\n",
    "    g_1s_test[test] = generate_g_1(N_samples).to(device)\n",
    "    g_ts_test[test] = g_0s_test[test].detach().clone()\n",
    "    \n",
    "    models_SCFM[test].eval()\n",
    "\n",
    "fig = plt.figure(figsize=(4.8, 1.6 * N_models * 3/3.1))\n",
    "gs = gridspec.GridSpec(N_models, 4, width_ratios=[1, 1, 1, 0.1], height_ratios=N_models * [1.], wspace=0.1, hspace=0.1)\n",
    "cax = fig.add_subplot(gs[:, 3])\n",
    "\n",
    "ax = []\n",
    "for i in range(N_models):\n",
    "    ax.append([])\n",
    "    for j in range(3):\n",
    "        a = fig.add_subplot(gs[i, j])\n",
    "        a.set_xlim(-3, 3)\n",
    "        a.set_ylim(-3, 3)\n",
    "        a.set_xticks([])\n",
    "        a.set_yticks([])\n",
    "        a.set_aspect(\"equal\")\n",
    "        ax[i].append(a)\n",
    "        \n",
    "ax[0][0].set_title(r\"$\\mathfrak{X}_0$\")\n",
    "ax[0][1].set_title(r\"$\\mathfrak{X}_t$\")\n",
    "ax[0][2].set_title(r\"$\\mathfrak{X}_1$\")\n",
    "Δc = 1 / (N_show - 1)\n",
    "colors = [(j * Δc, 0.1, 1 - j * Δc) for j in range(N_show)]\n",
    "cmap = mcolors.ListedColormap(colors)\n",
    "for i, test in enumerate(tests):\n",
    "    k = 0\n",
    "\n",
    "    ax[i][0].quiver(\n",
    "        g_0s_test[test][:N_samples, 0], g_0s_test[test][:N_samples, 1],\n",
    "        torch.cos(g_0s_test[test][:N_samples, 2]), torch.sin(g_0s_test[test][:N_samples, 2]),\n",
    "        width=0.01\n",
    "    )\n",
    "    ax[i][2].quiver(\n",
    "        g_1s_test[test][:N_samples, 0], g_1s_test[test][:N_samples, 1],\n",
    "        torch.cos(g_1s_test[test][:N_samples, 2]), torch.sin(g_1s_test[test][:N_samples, 2]),\n",
    "        width=0.01\n",
    "    )\n",
    "\n",
    "    alpha = 1\n",
    "    N_samples_shown = N_samples\n",
    "    for j in range(N_steps+1):\n",
    "        t = j * Δt\n",
    "        if j == N_steps:\n",
    "            alpha = 1\n",
    "            N_samples_shown = N_samples\n",
    "        with torch.no_grad():\n",
    "            g_ts_test[test] = models_SCFM[test].step(g_ts_test[test], torch.Tensor([t]), torch.Tensor([Δt]))\n",
    "\n",
    "        if j % N_skip == 0:\n",
    "            g_ts_test_plot = g_ts_test[test].to(\"cpu\")\n",
    "            im = ax[i][1].quiver(\n",
    "                g_ts_test_plot[:N_samples_shown, 0], g_ts_test_plot[:N_samples_shown, 1],\n",
    "                torch.cos(g_ts_test_plot[:N_samples_shown, 2]), torch.sin(g_ts_test_plot[:N_samples_shown, 2]),\n",
    "                color=colors[k], width=0.01, alpha=alpha\n",
    "            )\n",
    "            k += 1\n",
    "        alpha = 0.5\n",
    "        N_samples_shown = N_samples // 4\n",
    "fig.colorbar(ScalarMappable(cmap=cmap), cax=cax, ticks=np.linspace(0, 1, N_show), label=\"$t$\");\n",
    "fig.savefig(f\"output/interpolation_SCFM_SE2.pdf\", bbox_inches=\"tight\")"
   ]
  },
  {
   "cell_type": "code",
   "execution_count": null,
   "metadata": {},
   "outputs": [],
   "source": []
  }
 ],
 "metadata": {
  "kernelspec": {
   "display_name": "flow-matching",
   "language": "python",
   "name": "python3"
  },
  "language_info": {
   "codemirror_mode": {
    "name": "ipython",
    "version": 3
   },
   "file_extension": ".py",
   "mimetype": "text/x-python",
   "name": "python",
   "nbconvert_exporter": "python",
   "pygments_lexer": "ipython3",
   "version": "3.12.9"
  }
 },
 "nbformat": 4,
 "nbformat_minor": 2
}
